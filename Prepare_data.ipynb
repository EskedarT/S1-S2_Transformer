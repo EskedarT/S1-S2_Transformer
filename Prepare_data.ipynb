

{
  "nbformat": 4,
  "nbformat_minor": 0,
  "metadata": {
    "colab": {
      "provenance": [],
      "collapsed_sections": []
    },
    "kernelspec": {
      "name": "python3",
      "display_name": "Python 3"
    }
  },
  "cells": [
    {
      "cell_type": "code",
      "metadata": {
        "colab": {
          "base_uri": "https://localhost:8080/"
        },
        "id": "m80WMNoGFRB-",
        "outputId": "9e5a4c8f-c470-43a6-c6e4-b098e0626baf"
      },
      "source": [
        "#Import the necessary libraries\n",
        "\n",
        "import ee\n",
        "import math\n",
        "import datetime\n",
        "import os\n",
        "\n",
        "\n",
        "ee.Authenticate()\n",
        "ee.Initialize()\n"
      ],
      "execution_count": null,
      "outputs": [
        {
          "output_type": "stream",
          "name": "stdout",
          "text": [
            "To authorize access needed by Earth Engine, open the following URL in a web browser and follow the instructions. If the web browser does not start automatically, please manually browse the URL below.\n",
            "\n",
            "    https://code.earthengine.google.com/client-auth?scopes=https%3A//www.googleapis.com/auth/earthengine%20https%3A//www.googleapis.com/auth/devstorage.full_control&request_id=B7KhUyKXRrxaifhW0amXCdx6NwkSwQ03z9_cMC4CDEU&tc=HXC_sxqERrh7EI1s3_9a2csv7KncA2I6M4LGz42QPlE&cc=50C0y4hPjoiRFT2Br0wtXKSPvixC4cWyfnwpDWWDKmk\n",
            "\n",
            "The authorization workflow will generate a code, which you should paste in the box below.\n",
            "Enter verification code: 4/1AdQt8qiIxiFuBrN_QzZBQmZFFHSx-vVLQSvNDmkaWHgMSfcOBBXu4PWxqPw\n",
            "\n",
            "Successfully saved authorization token.\n"
          ]
        }
      ]
    },
    {
      "cell_type": "code",
      "metadata": {
        "id": "ZxBIAY95c3hM"
      },
      "source": [
        "from google.colab import auth\n",
        "auth.authenticate_user()"
      ],
      "execution_count": null,
      "outputs": []
    },
    {
      "cell_type": "code",
      "source": [
        "!wget https://raw.githubusercontent.com/adugnag/S1-S2_Transformer/main/helper.py\n",
        "\n",
        "from helper import s1_preproc, get_s2_sr_cld_col, apply_cld_shdw_mask, add_cld_shdw_mask, NBRaddTimeline"
      ],
      "metadata": {
        "id": "a8lo9Si-s_RI"
      },
      "execution_count": null,
      "outputs": []
    },
    {
      "cell_type": "code",
      "metadata": {
        "id": "w_cwPiVxE07G",
        "colab": {
          "base_uri": "https://localhost:8080/"
        },
        "outputId": "610d7745-4bc5-4f98-d7f4-ac388ac21523"
      },
      "source": [
        "#parameters\n",
        "params = {  'START_DATE': '2019-01-01', \n",
        "            'STOP_DATE': '2020-12-31',        \n",
        "            'ORBIT': 'DESCENDING',\n",
        "            'RELATIVE_ORBIT_NUMBER': 'ANY', \n",
        "            'SATELLITE': 'ANY',\n",
        "            'POLARIZATION': 'VVVH',\n",
        "            'ROI': ee.Geometry.Polygon([[[-63.166, -17.792],[-63.166, -19.157],[-61.535, -19.157],[-61.535, -17.792]]]),\n",
        "            'DEM': ee.Image('USGS/SRTMGL1_003'),\n",
        "            'APPLY_BORDER_NOISE_CORRECTION': True,\n",
        "            'APPLY_TERRAIN_FLATTENING': False,\n",
        "            'TERRAIN_FLATTENING_MODEL': 'VOLUME',\n",
        "            'TERRAIN_FLATTENING_ADDITIONAL_LAYOVER_SHADOW_BUFFER':0,\n",
        "            'APPLY_SPECKLE_FILTERING': True,\n",
        "            'SPECKLE_FILTER_FRAMEWORK':'MULTI',\n",
        "            'SPECKLE_FILTER': 'BOXCAR',\n",
        "            'SPECKLE_FILTER_KERNEL_SIZE': 15,\n",
        "            'NR_OF_IMAGES':10,\n",
        "            'FORMAT': 'DB',\n",
        "            'CLIP_TO_ROI': False,\n",
        "          'interval':30,\n",
        "          'increment':'day',\n",
        "          'OUTPUT_BUCKET' : 'senalerts_dl4',\n",
        "          'FOLDER':'TDF1',\n",
        "          'BANDS' : ['VV','VH','NBR'],\n",
        "          'LABEL_DATA' : ee.FeatureCollection(\"projects/ee-adugnagirma/assets/Samples_SA2_binary_bg40p_nf10p_Fhansen_5000_SAVED_COLL_0708_desc\"),\n",
        "          'LABEL' : ['Label'],\n",
        "          'TRAIN_FILE_PREFIX' : 'Training_TDF_BOL_S1_desc_S2_v3',\n",
        "          'TEST_FILE_PREFIX' : 'Testing_TDF_BOL_S1_desc_S2_v3',\n",
        "          'VALIDATION_FILE_PREFIX' :'Validation_TDF_BOL_S1_desc_S2_v3'\n",
        "            }\n"
      ],
      "execution_count": null,
      "outputs": [
        {
          "output_type": "stream",
          "name": "stdout",
          "text": [
            "Number of images in the collection:  249\n"
          ]
        }
      ]
    },
    {
      "cell_type": "code",
      "metadata": {
        "id": "_4nmdWKycH3a"
      },
      "source": [
        "#Features\n",
        "FEATURE_NAMES = params['BANDS']\n",
        "FEATURE_NAMES.append(params['LABEL'])\n",
        "\n",
        "#Data path\n",
        "TRAIN_FILE_PATH = 'gs://' + params['OUTPUT_BUCKET'] + '/' + params['FOLDER'] + '/' + params['TRAIN_FILE_PREFIX'] + '.tfrecord.gz'\n",
        "TEST_FILE_PATH = 'gs://' + params['OUTPUT_BUCKET'] + '/'+ params['FOLDER'] + '/'  + params['TEST_FILE_PREFIX'] + '.tfrecord.gz'\n",
        "VALIDATION_FILE_PATH = 'gs://' + params['OUTPUT_BUCKET'] + '/'+ params['FOLDER'] + '/'  + params['VALIDATION_FILE_PREFIX'] + '.tfrecord.gz'\n"
      ],
      "execution_count": null,
      "outputs": []
    },
    {
      "cell_type": "code",
      "source": [
        "#process Sentinel 1 image collection to ARD level\n",
        "s1_processed = s1_preproc(params)\n",
        "s1_processed = s1_processed.select(['VV','VH'])\n",
        "s1_nr = s1_processed.size().getInfo()\n",
        "\n",
        "print('Number of images in the collection: ', s1_processed.size().getInfo())\n",
        "\n",
        "#apply a moving median smoothing over the time-series\n",
        "startDate = ee.Date(params['START_DATE']);\n",
        "secondDate = startDate.advance(params['interval'], params['increment']).millis();\n",
        "increase = secondDate.subtract(startDate.millis());\n",
        "LIST1 = ee.List.sequence(startDate.millis(), ee.Date('2020-12-31').millis(), increase);\n",
        "\n",
        "def mov_s1(date):\n",
        "  return s1_processed.filterDate(ee.Date(date), ee.Date(date).advance(params['interval'], params['increment'])) \\\n",
        "           .median().set('system:time_start',ee.Date(date).millis())\n",
        "\n",
        "#smoothened collection\n",
        "collection1 =  ee.ImageCollection.fromImages(LIST1.map(mov_s1));\n",
        "\n",
        "#convert the collection to a single image\n",
        "image1 = collection1.toArrayPerBand()\n",
        "\n",
        "#Select image to display\n",
        "image_S1 = collection1.first()\n",
        "print('Number of images in the smoothened S1 collection: ', collection1.size().getInfo())\n",
        " "
      ],
      "metadata": {
        "colab": {
          "base_uri": "https://localhost:8080/"
        },
        "id": "RZ0iICJycFGu",
        "outputId": "bb41e817-bcbf-4dd2-bf79-7d7ee08ba5a5"
      },
      "execution_count": null,
      "outputs": [
        {
          "output_type": "stream",
          "name": "stdout",
          "text": [
            "Number of images in the smoothened S1 collection:  25\n"
          ]
        }
      ]
    },
    {
      "cell_type": "code",
      "source": [
        "#Sentinel-2 collection ARD processing\n",
        "\n",
        "s2_sr_cld_col = get_s2_sr_cld_col(params['ROI'], params['START_DATE'], params['STOP_DATE'])\n",
        "s2_sr = s2_sr_cld_col.map(add_cld_shdw_mask).map(apply_cld_shdw_mask)\n",
        "s2_sr = s2_sr.map(NBRaddTimeline).select('NBR')\n",
        "\n",
        "print('Number of images in the original collection: ', s2_sr.size().getInfo())\n",
        "\n",
        "#S2 time-series smoothing\n",
        "def mov_s2(date):\n",
        "  return s2_sr.filterDate(ee.Date(date), ee.Date(date).advance(params['interval'], params['increment'])) \\\n",
        "           .median().set('system:time_start',ee.Date(date).millis())\n",
        "\n",
        "#apply time series smoothing\n",
        "collection2 =  ee.ImageCollection.fromImages(LIST1.map(mov_s2));\n",
        "\n",
        "image2 = collection2.toArrayPerBand()\n",
        "s2_nr = s2_sr.size().getInfo()\n",
        "print('Number of images in the smoothened S2 collection: ', collection2.size().getInfo())"
      ],
      "metadata": {
        "colab": {
          "base_uri": "https://localhost:8080/"
        },
        "id": "hJV0_HRvQfBO",
        "outputId": "1784d2f1-f8e9-453b-b49f-4f17f69b6c8f"
      },
      "execution_count": null,
      "outputs": [
        {
          "output_type": "stream",
          "name": "stdout",
          "text": [
            "Number of images in the original collection:  1413\n",
            "Number of images in the smoothened S2 collection:  25\n"
          ]
        }
      ]
    },
    {
      "cell_type": "code",
      "source": [
        "#combine the sentinel-1 and 2 images for export\n",
        "image = ee.Image.cat([image1,image2])"
      ],
      "metadata": {
        "id": "vepbP9paRhUQ"
      },
      "execution_count": null,
      "outputs": []
    },
    {
      "cell_type": "code",
      "metadata": {
        "colab": {
          "base_uri": "https://localhost:8080/",
          "height": 1000
        },
        "id": "PGdtMJ4bfrSm",
        "outputId": "959a69dc-c9d4-4b79-c9a1-60d3a62ebf2c"
      },
      "source": [
        "#Optional visualizing \n",
        "import folium\n",
        "\n",
        "visparam = {'bands':'VH', 'min': -25,'max': -5}\n",
        "\n",
        "s1_processed_mapid = image1.getMapId(visparam)\n",
        "label_mapid = params['LABEL_DATA'].getMapId()\n",
        "\n",
        "map = folium.Map(location=[-21.22, -60.31])\n",
        "\n",
        "folium.TileLayer(\n",
        "    tiles=s1_processed_mapid['tile_fetcher'].url_format,\n",
        "    attr='Map Data &copy; <a href=\"https://earthengine.google.com/\">Google Earth Engine</a>',\n",
        "    overlay=True,\n",
        "    name='Preprocessed S1',\n",
        "  ).add_to(map)\n",
        "folium.TileLayer(\n",
        "  tiles=label_mapid['tile_fetcher'].url_format,\n",
        "  attr='Map Data &copy; <a href=\"https://earthengine.google.com/\">Google Earth Engine</a>',\n",
        "  overlay=True,\n",
        "  name='samples',\n",
        ").add_to(map)\n",
        "map.add_child(folium.LayerControl())\n",
        "map"
      ],
      "execution_count": null,
      "outputs": [
        {
          "output_type": "execute_result",
          "data": {
            "text/plain": [
              "<folium.folium.Map at 0x7fb2531e1d10>"
            ],
            "text/html": [
              "<div style=\"width:100%;\"><div style=\"position:relative;width:100%;height:0;padding-bottom:60%;\"><span style=\"color:#565656\">Make this Notebook Trusted to load map: File -> Trust Notebook</span><iframe srcdoc=\"&lt;!DOCTYPE html&gt;\n",
              "&lt;head&gt;    \n",
              "    &lt;meta http-equiv=&quot;content-type&quot; content=&quot;text/html; charset=UTF-8&quot; /&gt;\n",
              "    \n",
              "        &lt;script&gt;\n",
              "            L_NO_TOUCH = false;\n",
              "            L_DISABLE_3D = false;\n",
              "        &lt;/script&gt;\n",
              "    \n",
              "    &lt;style&gt;html, body {width: 100%;height: 100%;margin: 0;padding: 0;}&lt;/style&gt;\n",
              "    &lt;style&gt;#map {position:absolute;top:0;bottom:0;right:0;left:0;}&lt;/style&gt;\n",
              "    &lt;script src=&quot;https://cdn.jsdelivr.net/npm/leaflet@1.6.0/dist/leaflet.js&quot;&gt;&lt;/script&gt;\n",
              "    &lt;script src=&quot;https://code.jquery.com/jquery-1.12.4.min.js&quot;&gt;&lt;/script&gt;\n",
              "    &lt;script src=&quot;https://maxcdn.bootstrapcdn.com/bootstrap/3.2.0/js/bootstrap.min.js&quot;&gt;&lt;/script&gt;\n",
              "    &lt;script src=&quot;https://cdnjs.cloudflare.com/ajax/libs/Leaflet.awesome-markers/2.0.2/leaflet.awesome-markers.js&quot;&gt;&lt;/script&gt;\n",
              "    &lt;link rel=&quot;stylesheet&quot; href=&quot;https://cdn.jsdelivr.net/npm/leaflet@1.6.0/dist/leaflet.css&quot;/&gt;\n",
              "    &lt;link rel=&quot;stylesheet&quot; href=&quot;https://maxcdn.bootstrapcdn.com/bootstrap/3.2.0/css/bootstrap.min.css&quot;/&gt;\n",
              "    &lt;link rel=&quot;stylesheet&quot; href=&quot;https://maxcdn.bootstrapcdn.com/bootstrap/3.2.0/css/bootstrap-theme.min.css&quot;/&gt;\n",
              "    &lt;link rel=&quot;stylesheet&quot; href=&quot;https://maxcdn.bootstrapcdn.com/font-awesome/4.6.3/css/font-awesome.min.css&quot;/&gt;\n",
              "    &lt;link rel=&quot;stylesheet&quot; href=&quot;https://cdnjs.cloudflare.com/ajax/libs/Leaflet.awesome-markers/2.0.2/leaflet.awesome-markers.css&quot;/&gt;\n",
              "    &lt;link rel=&quot;stylesheet&quot; href=&quot;https://cdn.jsdelivr.net/gh/python-visualization/folium/folium/templates/leaflet.awesome.rotate.min.css&quot;/&gt;\n",
              "    \n",
              "            &lt;meta name=&quot;viewport&quot; content=&quot;width=device-width,\n",
              "                initial-scale=1.0, maximum-scale=1.0, user-scalable=no&quot; /&gt;\n",
              "            &lt;style&gt;\n",
              "                #map_ac46f59c5e88f02217d2f55f88b81e6e {\n",
              "                    position: relative;\n",
              "                    width: 100.0%;\n",
              "                    height: 100.0%;\n",
              "                    left: 0.0%;\n",
              "                    top: 0.0%;\n",
              "                }\n",
              "            &lt;/style&gt;\n",
              "        \n",
              "&lt;/head&gt;\n",
              "&lt;body&gt;    \n",
              "    \n",
              "            &lt;div class=&quot;folium-map&quot; id=&quot;map_ac46f59c5e88f02217d2f55f88b81e6e&quot; &gt;&lt;/div&gt;\n",
              "        \n",
              "&lt;/body&gt;\n",
              "&lt;script&gt;    \n",
              "    \n",
              "            var map_ac46f59c5e88f02217d2f55f88b81e6e = L.map(\n",
              "                &quot;map_ac46f59c5e88f02217d2f55f88b81e6e&quot;,\n",
              "                {\n",
              "                    center: [-21.22, -60.31],\n",
              "                    crs: L.CRS.EPSG3857,\n",
              "                    zoom: 10,\n",
              "                    zoomControl: true,\n",
              "                    preferCanvas: false,\n",
              "                }\n",
              "            );\n",
              "\n",
              "            \n",
              "\n",
              "        \n",
              "    \n",
              "            var tile_layer_40ea1b2bcfefe0b83aec384c63170708 = L.tileLayer(\n",
              "                &quot;https://{s}.tile.openstreetmap.org/{z}/{x}/{y}.png&quot;,\n",
              "                {&quot;attribution&quot;: &quot;Data by \\u0026copy; \\u003ca href=\\&quot;http://openstreetmap.org\\&quot;\\u003eOpenStreetMap\\u003c/a\\u003e, under \\u003ca href=\\&quot;http://www.openstreetmap.org/copyright\\&quot;\\u003eODbL\\u003c/a\\u003e.&quot;, &quot;detectRetina&quot;: false, &quot;maxNativeZoom&quot;: 18, &quot;maxZoom&quot;: 18, &quot;minZoom&quot;: 0, &quot;noWrap&quot;: false, &quot;opacity&quot;: 1, &quot;subdomains&quot;: &quot;abc&quot;, &quot;tms&quot;: false}\n",
              "            ).addTo(map_ac46f59c5e88f02217d2f55f88b81e6e);\n",
              "        \n",
              "    \n",
              "            var tile_layer_a532675916785cd7d9991fce3dfefcd1 = L.tileLayer(\n",
              "                &quot;https://earthengine.googleapis.com/v1alpha/projects/earthengine-legacy/maps/cc2316bfefe48d61290ccea89d62d064-b0b85117f80d7b9cb7a26b0b1a349ba8/tiles/{z}/{x}/{y}&quot;,\n",
              "                {&quot;attribution&quot;: &quot;Map Data \\u0026copy; \\u003ca href=\\&quot;https://earthengine.google.com/\\&quot;\\u003eGoogle Earth Engine\\u003c/a\\u003e&quot;, &quot;detectRetina&quot;: false, &quot;maxNativeZoom&quot;: 18, &quot;maxZoom&quot;: 18, &quot;minZoom&quot;: 0, &quot;noWrap&quot;: false, &quot;opacity&quot;: 1, &quot;subdomains&quot;: &quot;abc&quot;, &quot;tms&quot;: false}\n",
              "            ).addTo(map_ac46f59c5e88f02217d2f55f88b81e6e);\n",
              "        \n",
              "    \n",
              "            var tile_layer_9e6d0b9f72598128cb3f0a2494e1755d = L.tileLayer(\n",
              "                &quot;https://earthengine.googleapis.com/v1alpha/projects/earthengine-legacy/maps/5717bd23afccead5afa148079e8edb3b-8fdd63078e7af19d2d3f6ee563c74fde/tiles/{z}/{x}/{y}&quot;,\n",
              "                {&quot;attribution&quot;: &quot;Map Data \\u0026copy; \\u003ca href=\\&quot;https://earthengine.google.com/\\&quot;\\u003eGoogle Earth Engine\\u003c/a\\u003e&quot;, &quot;detectRetina&quot;: false, &quot;maxNativeZoom&quot;: 18, &quot;maxZoom&quot;: 18, &quot;minZoom&quot;: 0, &quot;noWrap&quot;: false, &quot;opacity&quot;: 1, &quot;subdomains&quot;: &quot;abc&quot;, &quot;tms&quot;: false}\n",
              "            ).addTo(map_ac46f59c5e88f02217d2f55f88b81e6e);\n",
              "        \n",
              "    \n",
              "            var layer_control_a8def7be141e4f385b7ac58e6cc55d34 = {\n",
              "                base_layers : {\n",
              "                    &quot;openstreetmap&quot; : tile_layer_40ea1b2bcfefe0b83aec384c63170708,\n",
              "                },\n",
              "                overlays :  {\n",
              "                    &quot;Preprocessed S1&quot; : tile_layer_a532675916785cd7d9991fce3dfefcd1,\n",
              "                    &quot;samples&quot; : tile_layer_9e6d0b9f72598128cb3f0a2494e1755d,\n",
              "                },\n",
              "            };\n",
              "            L.control.layers(\n",
              "                layer_control_a8def7be141e4f385b7ac58e6cc55d34.base_layers,\n",
              "                layer_control_a8def7be141e4f385b7ac58e6cc55d34.overlays,\n",
              "                {&quot;autoZIndex&quot;: true, &quot;collapsed&quot;: true, &quot;position&quot;: &quot;topright&quot;}\n",
              "            ).addTo(map_ac46f59c5e88f02217d2f55f88b81e6e);\n",
              "        \n",
              "&lt;/script&gt;\" style=\"position:absolute;width:100%;height:100%;left:0;top:0;border:none !important;\" allowfullscreen webkitallowfullscreen mozallowfullscreen></iframe></div></div>"
            ]
          },
          "metadata": {},
          "execution_count": 18
        }
      ]
    },
    {
      "cell_type": "code",
      "metadata": {
        "id": "QaH2p_I5JMjW"
      },
      "source": [
        "\n",
        "#random sampling from images\n",
        "sample = image.sampleRegions(collection=params['LABEL_DATA'], properties=params['LABEL'], scale=10, tileScale=16).randomColumn()\n",
        "\n",
        "#split training, validation and testing data\n",
        "training = sample.filter(ee.Filter.lt('random', 0.8))\n",
        "validation = sample.filter(ee.Filter.gt(\"random\",0.9))\n",
        "testing = sample.filter(ee.Filter.gt(\"random\",0.8)).filter(ee.Filter.lt(\"random\",0.9))"
      ],
      "execution_count": null,
      "outputs": []
    },
    {
      "cell_type": "code",
      "metadata": {
        "id": "EXYjSPpsKQg9"
      },
      "source": [
        "# Create the tasks.\n",
        "training_task = ee.batch.Export.table.toCloudStorage(\n",
        "  collection=training,\n",
        "  description='Training Export',\n",
        "  fileNamePrefix= params['FOLDER'] + '/' + params['TRAIN_FILE_PREFIX'],\n",
        "  bucket=params['OUTPUT_BUCKET'],\n",
        "  fileFormat='TFRecord',\n",
        "  selectors=FEATURE_NAMES)\n",
        "\n",
        "testing_task = ee.batch.Export.table.toCloudStorage(\n",
        "  collection=testing,\n",
        "  description='Testing Export',\n",
        "  fileNamePrefix= params['FOLDER'] + '/' + params['TEST_FILE_PREFIX'],\n",
        "  bucket=params['OUTPUT_BUCKET'],\n",
        "  fileFormat='TFRecord',\n",
        "  selectors=FEATURE_NAMES)\n",
        "\n",
        "validation_task = ee.batch.Export.table.toCloudStorage(\n",
        "  collection=validation,\n",
        "  description='Validation Export',\n",
        "  fileNamePrefix= params['FOLDER'] + '/' + params['VALIDATION_FILE_PREFIX'],\n",
        "  bucket=params['OUTPUT_BUCKET'],\n",
        "  fileFormat='TFRecord',\n",
        "  selectors=FEATURE_NAMES)"
      ],
      "execution_count": null,
      "outputs": []
    },
    {
      "cell_type": "code",
      "metadata": {
        "id": "-8bRXsTeKTy9"
      },
      "source": [
        "# Start the tasks.\n",
        "training_task.start()\n",
        "testing_task.start()\n",
        "validation_task.start()"
      ],
      "execution_count": null,
      "outputs": []
    }
  ]
}
