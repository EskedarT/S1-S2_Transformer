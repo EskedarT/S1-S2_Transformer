{
  "nbformat": 4,
  "nbformat_minor": 0,
  "metadata": {
    "colab": {
      "private_outputs": true,
      "provenance": [],
      "collapsed_sections": []
    },
    "kernelspec": {
      "name": "python3",
      "display_name": "Python 3"
    },
    "accelerator": "GPU"
  },
  "cells": [
    {
      "cell_type": "markdown",
      "source": [
        "[![Open in Colab](https://colab.research.google.com/assets/colab-badge.svg)](https://raw.githubusercontent.com/adugnag/S1-S2_Transformer/main/Prepare_data.ipynb?token=GHSAT0AAAAAABNICAQHDTK3HNFP2CPI742OYZEK3GQ)"
      ],
      "metadata": {
        "id": "9IvanUov9UWL"
      }
    },
    {
      "cell_type": "code",
      "metadata": {
        "id": "sYyTIPLsvMWl",
        "cellView": "code"
      },
      "source": [
        "from google.colab import auth\n",
        "auth.authenticate_user()"
      ],
      "execution_count": null,
      "outputs": []
    },
    {
      "cell_type": "code",
      "metadata": {
        "id": "HzwiVqbcmJIX",
        "cellView": "code"
      },
      "source": [
        "import ee\n",
        "ee.Authenticate()\n",
        "ee.Initialize()"
      ],
      "execution_count": null,
      "outputs": []
    },
    {
      "cell_type": "code",
      "metadata": {
        "cellView": "code",
        "id": "WjOh_CJeyy2m"
      },
      "source": [
        "\n",
        "import tensorflow as tf\n",
        "print(tf.__version__)"
      ],
      "execution_count": null,
      "outputs": []
    },
    {
      "cell_type": "code",
      "source": [
        "!pip install -q -U keras-tuner\n",
        "\n",
        "import keras_tuner as kt"
      ],
      "metadata": {
        "id": "9z_nWlNzckyv"
      },
      "execution_count": null,
      "outputs": []
    },
    {
      "cell_type": "code",
      "metadata": {
        "id": "frodQp2syy2q"
      },
      "source": [
        "import folium\n",
        "print(folium.__version__)"
      ],
      "execution_count": null,
      "outputs": []
    },
    {
      "cell_type": "code",
      "source": [
        "!wget https://raw.githubusercontent.com/adugnag/S1-S2_Transformer/main/helper.py\n",
        "\n",
        "from helper import model_builder, get_dataset"
      ],
      "metadata": {
        "id": "BKbGjP27aQ7m"
      },
      "execution_count": null,
      "outputs": []
    },
    {
      "cell_type": "code",
      "source": [
        "params = {'DATA_BUCKET' : 'senalerts_dl4',\n",
        "          'OUTPUT_BUCKET' : 'senalerts_dl4',\n",
        "          'FOLDER' : 'TDF1',\n",
        "          'BANDS1' :['VV','VH'],\n",
        "          'BANDS2' : ['NBR'],\n",
        "          'TRAIN_FILE_PREFIX' : 'Training_TDF_BOL_S1_desc_S2_v2',\n",
        "          'TEST_FILE_PREFIX' : 'Testing_TDF_BOL_S1_desc_S2_v2',\n",
        "          'VALIDATION_FILE_PREFIX' :'Validation_TDF_BOL_S1_desc_S2_v2',\n",
        "          'LABEL':'Label',\n",
        "          'NUM_S1':25,\n",
        "          'NUM_S2':25,\n",
        "          'MODEL_NAME':'TDF_MHSA_PAR_S1_S2_v2'}"
      ],
      "metadata": {
        "id": "Es8mpPr4alxa"
      },
      "execution_count": null,
      "outputs": []
    },
    {
      "cell_type": "code",
      "source": [
        "# Sentinel-1 features\n",
        "FEATURE_NAMES1 = list(params['BANDS1'])\n",
        "FEATURE_NAMES1.append(params['LABEL'])\n",
        "\n",
        "# List of fixed-length features\n",
        "columns1 = [\n",
        "  tf.io.FixedLenFeature(shape=[params['NUM_S1']], dtype=tf.float32),\n",
        "  tf.io.FixedLenFeature(shape=[params['NUM_S2']], dtype=tf.float32),\n",
        "  tf.io.FixedLenFeature(shape=[1], dtype=tf.float32)\n",
        "]\n",
        "\n",
        "# Dictionary with feature names as keys, fixed-length features as values.\n",
        "FEATURES_DICT1 = dict(zip(FEATURE_NAMES1, columns1))\n",
        "\n",
        "#Sentnel-2 features\n",
        "\n",
        "FEATURE_NAMES2 = list(params['BANDS2'])\n",
        "\n",
        "columns2 = [\n",
        "  tf.io.FixedLenFeature(shape=[25], dtype=tf.float32) for k in FEATURE_NAMES2\n",
        "]\n",
        "\n",
        "FEATURES_DICT2 = dict(zip(FEATURE_NAMES2, columns2))"
      ],
      "metadata": {
        "id": "HnaEU2OtxgWB"
      },
      "execution_count": null,
      "outputs": []
    },
    {
      "cell_type": "code",
      "source": [
        "#File path\n",
        "\n",
        "TRAIN_FILE_PATH = 'gs://' + params['OUTPUT_BUCKET'] + '/' + params['FOLDER'] + '/' + params['TRAIN_FILE_PREFIX'] + '.tfrecord.gz'\n",
        "TEST_FILE_PATH = 'gs://' + params['OUTPUT_BUCKET'] + '/' + params['FOLDER'] + '/'  + params['TEST_FILE_PREFIX'] + '.tfrecord.gz'\n",
        "VALIDATION_FILE_PATH = 'gs://' + params['OUTPUT_BUCKET'] + '/' + params['FOLDER']+ '/'  + params['VALIDATION_FILE_PREFIX'] + '.tfrecord.gz'\n",
        "\n",
        "#get training, validation and test dataset\n",
        "train_dataset, validation_dataset, test_dataset = get_dataset(TRAIN_FILE_PATH, TEST_FILE_PATH, VALIDATION_FILE_PATH, FEATURES_DICT1, FEATURES_DICT2, batch_size=16)\n",
        "\n",
        "# Print the first parsed \n",
        "\n",
        "from pprint import pprint\n",
        "pprint(iter(train_dataset).next())"
      ],
      "metadata": {
        "id": "lX6ExOeHbyFS"
      },
      "execution_count": null,
      "outputs": []
    },
    {
      "cell_type": "code",
      "source": [
        "tuner = kt.Hyperband(model_builder,\n",
        "                     objective='val_accuracy',\n",
        "                     max_epochs=10,\n",
        "                     overwrite=True)"
      ],
      "metadata": {
        "id": "xF88uI9OugsE"
      },
      "execution_count": null,
      "outputs": []
    },
    {
      "cell_type": "code",
      "source": [
        "stop_early = tf.keras.callbacks.EarlyStopping(monitor='val_accuracy', patience=5)"
      ],
      "metadata": {
        "id": "8A90QvVMu3E9"
      },
      "execution_count": null,
      "outputs": []
    },
    {
      "cell_type": "code",
      "source": [
        "tuner.search(train_dataset, epochs=50, validation_data=validation_dataset, callbacks=[stop_early])\n",
        "\n",
        "# Get the optimal hyperparameters\n",
        "best_hps=tuner.get_best_hyperparameters(num_trials=1)[0]\n",
        "\n",
        "print(f\"\"\"\n",
        "The hyperparameter search is complete. The optimal number of units in the dense\n",
        "layer is {best_hps.get('filters')}, The optimal number of units in the LSTM\n",
        "layer is {best_hps.get('lstm units')} and the optimal learning rate for the optimizer\n",
        "is {best_hps.get('learning_rate')}.\n",
        "\"\"\")"
      ],
      "metadata": {
        "id": "V5oYQGbFu6k6"
      },
      "execution_count": null,
      "outputs": []
    },
    {
      "cell_type": "code",
      "source": [
        "# Build the model with the optimal hyperparameters and train it on the data for 50 epochs\n",
        "model = tuner.hypermodel.build(best_hps)\n",
        "\n",
        "history = model.fit(train_dataset, epochs=50,validation_data=validation_dataset)\n",
        "\n",
        "val_acc_per_epoch = history.history['val_accuracy']\n",
        "best_epoch = val_acc_per_epoch.index(max(val_acc_per_epoch)) + 1\n",
        "print('Best epoch: %d' % (best_epoch,))"
      ],
      "metadata": {
        "id": "xuBVoShjEPxr"
      },
      "execution_count": null,
      "outputs": []
    },
    {
      "cell_type": "code",
      "source": [
        "hypermodel = tuner.hypermodel.build(best_hps)\n",
        "\n",
        "# Retrain the model with the best epoch\n",
        "hypermodel.fit(x=train_dataset, validation_data = validation_dataset, epochs=best_epoch)"
      ],
      "metadata": {
        "id": "n7fndqwtGN6D"
      },
      "execution_count": null,
      "outputs": []
    },
    {
      "cell_type": "code",
      "source": [
        "#evaluate model\n",
        "eval_result = hypermodel.evaluate(test_dataset)\n",
        "print(\"[test loss, test accuracy]:\", eval_result)"
      ],
      "metadata": {
        "id": "KTm8mMRvIQNY"
      },
      "execution_count": null,
      "outputs": []
    },
    {
      "cell_type": "code",
      "source": [
        "MODEL_DIR = 'gs://' + params['OUTPUT_BUCKET'] + '/' + params['FOLDER'] + '/' + params['MODEL_NAME']\n",
        "hypermodel.save(MODEL_DIR, save_format='tf')"
      ],
      "metadata": {
        "id": "thWkfJBLIaGs"
      },
      "execution_count": null,
      "outputs": []
    }
  ]
}